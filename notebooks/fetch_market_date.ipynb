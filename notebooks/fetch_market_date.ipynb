{
 "cells": [
  {
   "cell_type": "code",
   "execution_count": 12,
   "id": "632ada14",
   "metadata": {},
   "outputs": [],
   "source": [
    "# initialization\n",
    "\n",
    "from alpha_vantage.timeseries import TimeSeries\n",
    "import yfinance as yf\n",
    "import pandas as pd\n",
    "import matplotlib.pyplot as plt\n",
    "from dotenv import load_dotenv\n",
    "import os\n",
    "\n",
    "# load variables from .env\n",
    "load_dotenv()\n",
    "\n",
    "api_key = os.getenv(\"ALPHA_VANTAGE_API_KEY\")\n",
    "\n",
    "ts = TimeSeries(key = api_key, output_format = 'pandas')"
   ]
  },
  {
   "cell_type": "code",
   "execution_count": null,
   "id": "7aac93c8",
   "metadata": {},
   "outputs": [],
   "source": [
    "# # yfinance input \n",
    "\n",
    "# tickers = [\"^GSPC\", \"IEF\", \"GLD\"]\n",
    "# start_date = \"2018-01-01\"\n",
    "# end_date = \"2025-01-01\"\n",
    "\n",
    "# data = yf.download(tickers, start = start_date, end = end_date)[\"Adj Close\"]\n",
    "# data.columns = [\"S&P 500\", \"Treasury Bonds\", \"Gold\"]\n",
    "# data.head(10)"
   ]
  },
  {
   "cell_type": "code",
   "execution_count": null,
   "id": "7738dc04",
   "metadata": {},
   "outputs": [],
   "source": [
    "data, meta_data = ts.get_daily(symbol = \"SPY\", outputsize = \"full\")\n",
    "    "
   ]
  }
 ],
 "metadata": {
  "kernelspec": {
   "display_name": "Python 3",
   "language": "python",
   "name": "python3"
  },
  "language_info": {
   "codemirror_mode": {
    "name": "ipython",
    "version": 3
   },
   "file_extension": ".py",
   "mimetype": "text/x-python",
   "name": "python",
   "nbconvert_exporter": "python",
   "pygments_lexer": "ipython3",
   "version": "3.13.0"
  }
 },
 "nbformat": 4,
 "nbformat_minor": 5
}

{
 "cells": [
  {
   "cell_type": "code",
   "execution_count": null,
   "id": "632ada14",
   "metadata": {},
   "outputs": [],
   "source": [
    "# initialization\n",
    "\n",
    "from alpha_vantage.timeseries import TimeSeries\n",
    "import yfinance as yf\n",
    "import pandas as pd\n",
    "import matplotlib.pyplot as plt\n",
    "\n",
    "api_key = \"PIF0EWRVRKDTGYY4\"\n",
    "\n",
    "ts = TimeSeries(key = api_key, output_format = 'pandas')"
   ]
  },
  {
   "cell_type": "code",
   "execution_count": 9,
   "id": "7aac93c8",
   "metadata": {},
   "outputs": [],
   "source": [
    "# tickers = [\"^GSPC\", \"IEF\", \"GLD\"]\n",
    "# start_date = \"2018-01-01\"\n",
    "# end_date = \"2025-01-01\"\n",
    "\n",
    "# data = yf.download(tickers, start = start_date, end = end_date)[\"Adj Close\"]\n",
    "# data.columns = [\"S&P 500\", \"Treasury Bonds\", \"Gold\"]\n",
    "# data.head(10)"
   ]
  },
  {
   "cell_type": "code",
   "execution_count": null,
   "id": "7738dc04",
   "metadata": {},
   "outputs": [],
   "source": [
    "data, meta_data = ts.get_daily(symbol = \"SPY\", outputsize = \"full\")\n"
   ]
  }
 ],
 "metadata": {
  "kernelspec": {
   "display_name": "Python 3",
   "language": "python",
   "name": "python3"
  },
  "language_info": {
   "codemirror_mode": {
    "name": "ipython",
    "version": 3
   },
   "file_extension": ".py",
   "mimetype": "text/x-python",
   "name": "python",
   "nbconvert_exporter": "python",
   "pygments_lexer": "ipython3",
   "version": "3.13.0"
  }
 },
 "nbformat": 4,
 "nbformat_minor": 5
}

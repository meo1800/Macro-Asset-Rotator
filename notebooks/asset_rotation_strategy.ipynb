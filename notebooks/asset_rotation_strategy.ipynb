{
 "cells": [
  {
   "cell_type": "code",
   "execution_count": null,
   "id": "689cf5c7",
   "metadata": {},
   "outputs": [
    {
     "data": {
      "text/plain": [
       "True"
      ]
     },
     "execution_count": 1,
     "metadata": {},
     "output_type": "execute_result"
    }
   ],
   "source": [
    "from alpha_vantage.timeseries import TimeSeries\n",
    "import pandas as pd\n",
    "from dotenv import load_dotenv\n",
    "import os\n",
    "\n",
    "# Load variables from .env file\n",
    "load_dotenv()\n",
    "\n",
    "api_key = os.getenv(\"ALPHA_VANTAGE_API_KEY\")\n",
    "ts = TimeSeries(key = api_key, output_format = \"pandas\")\n",
    "\n",
    "# Defining get asset data variable\n",
    "def get_asset_data(symbol):\n",
    "    data, _ = ts.get_daily(symbol = symbol, outputsize = \"full\")\n",
    "    data = data[['4. close']] # DF becoems just the close column\n",
    "    data.columns = [symbol] \n",
    "    data.index = pd.to_datetime(data.index) # Converts index from data strings to date/time objects\n",
    "    return data.sort_index() \n",
    "\n"
   ]
  },
  {
   "cell_type": "code",
   "execution_count": null,
   "id": "6708060a",
   "metadata": {},
   "outputs": [],
   "source": []
  }
 ],
 "metadata": {
  "kernelspec": {
   "display_name": "Python 3",
   "language": "python",
   "name": "python3"
  },
  "language_info": {
   "codemirror_mode": {
    "name": "ipython",
    "version": 3
   },
   "file_extension": ".py",
   "mimetype": "text/x-python",
   "name": "python",
   "nbconvert_exporter": "python",
   "pygments_lexer": "ipython3",
   "version": "3.13.0"
  }
 },
 "nbformat": 4,
 "nbformat_minor": 5
}
